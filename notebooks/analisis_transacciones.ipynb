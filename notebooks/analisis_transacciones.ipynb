{
 "cells": [
  {
   "cell_type": "code",
   "execution_count": 2,
   "id": "1d009f33",
   "metadata": {},
   "outputs": [
    {
     "name": "stderr",
     "output_type": "stream",
     "text": [
      "C:\\Users\\Lenovo\\AppData\\Local\\Temp\\ipykernel_6648\\1149055161.py:20: UserWarning: pandas only supports SQLAlchemy connectable (engine/connection) or database string URI or sqlite3 DBAPI2 connection. Other DBAPI2 objects are not tested. Please consider using SQLAlchemy.\n",
      "  df = pd.read_sql(query, conn)\n"
     ]
    },
    {
     "data": {
      "text/html": [
       "<div>\n",
       "<style scoped>\n",
       "    .dataframe tbody tr th:only-of-type {\n",
       "        vertical-align: middle;\n",
       "    }\n",
       "\n",
       "    .dataframe tbody tr th {\n",
       "        vertical-align: top;\n",
       "    }\n",
       "\n",
       "    .dataframe thead th {\n",
       "        text-align: right;\n",
       "    }\n",
       "</style>\n",
       "<table border=\"1\" class=\"dataframe\">\n",
       "  <thead>\n",
       "    <tr style=\"text-align: right;\">\n",
       "      <th></th>\n",
       "      <th>id</th>\n",
       "      <th>tipo</th>\n",
       "      <th>monto</th>\n",
       "      <th>fecha</th>\n",
       "      <th>origen</th>\n",
       "      <th>destino</th>\n",
       "    </tr>\n",
       "  </thead>\n",
       "  <tbody>\n",
       "    <tr>\n",
       "      <th>0</th>\n",
       "      <td>1</td>\n",
       "      <td>Extracción</td>\n",
       "      <td>2000.0</td>\n",
       "      <td>2025-05-05 13:19:45</td>\n",
       "      <td>0001-000001</td>\n",
       "      <td>None</td>\n",
       "    </tr>\n",
       "    <tr>\n",
       "      <th>1</th>\n",
       "      <td>2</td>\n",
       "      <td>Transferencia</td>\n",
       "      <td>1000.0</td>\n",
       "      <td>2025-05-05 13:22:55</td>\n",
       "      <td>0001-000001</td>\n",
       "      <td>0001-000002</td>\n",
       "    </tr>\n",
       "    <tr>\n",
       "      <th>2</th>\n",
       "      <td>3</td>\n",
       "      <td>Extracción</td>\n",
       "      <td>500.0</td>\n",
       "      <td>2025-05-05 13:25:39</td>\n",
       "      <td>0001-000001</td>\n",
       "      <td>None</td>\n",
       "    </tr>\n",
       "    <tr>\n",
       "      <th>3</th>\n",
       "      <td>4</td>\n",
       "      <td>Transferencia</td>\n",
       "      <td>300.0</td>\n",
       "      <td>2025-05-05 18:44:12</td>\n",
       "      <td>0001-000001</td>\n",
       "      <td>0001-000002</td>\n",
       "    </tr>\n",
       "  </tbody>\n",
       "</table>\n",
       "</div>"
      ],
      "text/plain": [
       "   id           tipo   monto               fecha       origen      destino\n",
       "0   1     Extracción  2000.0 2025-05-05 13:19:45  0001-000001         None\n",
       "1   2  Transferencia  1000.0 2025-05-05 13:22:55  0001-000001  0001-000002\n",
       "2   3     Extracción   500.0 2025-05-05 13:25:39  0001-000001         None\n",
       "3   4  Transferencia   300.0 2025-05-05 18:44:12  0001-000001  0001-000002"
      ]
     },
     "execution_count": 2,
     "metadata": {},
     "output_type": "execute_result"
    }
   ],
   "source": [
    "import sys\n",
    "import os\n",
    "sys.path.append(os.path.abspath(\"..\"))\n",
    "\n",
    "import pandas as pd\n",
    "from db.conexion import get_connection\n",
    "\n",
    "conn = get_connection()\n",
    "\n",
    "query = \"\"\"\n",
    "SELECT \n",
    "    t.id, t.tipo, t.monto, t.fecha,\n",
    "    co.numero_cuenta AS origen,\n",
    "    cd.numero_cuenta AS destino\n",
    "FROM transacciones t\n",
    "LEFT JOIN cuentas co ON t.cuenta_origen_id = co.id\n",
    "LEFT JOIN cuentas cd ON t.cuenta_destino_id = cd.id\n",
    "\"\"\"\n",
    "\n",
    "df = pd.read_sql(query, conn)\n",
    "conn.close()\n",
    "\n",
    "df.head()\n"
   ]
  },
  {
   "cell_type": "code",
   "execution_count": 3,
   "id": "869b5528",
   "metadata": {},
   "outputs": [
    {
     "name": "stdout",
     "output_type": "stream",
     "text": [
      "<class 'pandas.core.frame.DataFrame'>\n",
      "RangeIndex: 4 entries, 0 to 3\n",
      "Data columns (total 6 columns):\n",
      " #   Column   Non-Null Count  Dtype         \n",
      "---  ------   --------------  -----         \n",
      " 0   id       4 non-null      int64         \n",
      " 1   tipo     4 non-null      object        \n",
      " 2   monto    4 non-null      float64       \n",
      " 3   fecha    4 non-null      datetime64[ns]\n",
      " 4   origen   4 non-null      object        \n",
      " 5   destino  2 non-null      object        \n",
      "dtypes: datetime64[ns](1), float64(1), int64(1), object(3)\n",
      "memory usage: 324.0+ bytes\n"
     ]
    }
   ],
   "source": [
    "#VERIFICAR TIPOS DE DATOS\n",
    "df.info()"
   ]
  },
  {
   "cell_type": "code",
   "execution_count": 4,
   "id": "530564fc",
   "metadata": {},
   "outputs": [
    {
     "data": {
      "text/html": [
       "<div>\n",
       "<style scoped>\n",
       "    .dataframe tbody tr th:only-of-type {\n",
       "        vertical-align: middle;\n",
       "    }\n",
       "\n",
       "    .dataframe tbody tr th {\n",
       "        vertical-align: top;\n",
       "    }\n",
       "\n",
       "    .dataframe thead th {\n",
       "        text-align: right;\n",
       "    }\n",
       "</style>\n",
       "<table border=\"1\" class=\"dataframe\">\n",
       "  <thead>\n",
       "    <tr style=\"text-align: right;\">\n",
       "      <th></th>\n",
       "      <th>id</th>\n",
       "      <th>monto</th>\n",
       "      <th>fecha</th>\n",
       "    </tr>\n",
       "  </thead>\n",
       "  <tbody>\n",
       "    <tr>\n",
       "      <th>count</th>\n",
       "      <td>4.000000</td>\n",
       "      <td>4.000000</td>\n",
       "      <td>4</td>\n",
       "    </tr>\n",
       "    <tr>\n",
       "      <th>mean</th>\n",
       "      <td>2.500000</td>\n",
       "      <td>950.000000</td>\n",
       "      <td>2025-05-05 14:43:07.750000128</td>\n",
       "    </tr>\n",
       "    <tr>\n",
       "      <th>min</th>\n",
       "      <td>1.000000</td>\n",
       "      <td>300.000000</td>\n",
       "      <td>2025-05-05 13:19:45</td>\n",
       "    </tr>\n",
       "    <tr>\n",
       "      <th>25%</th>\n",
       "      <td>1.750000</td>\n",
       "      <td>450.000000</td>\n",
       "      <td>2025-05-05 13:22:07.500000</td>\n",
       "    </tr>\n",
       "    <tr>\n",
       "      <th>50%</th>\n",
       "      <td>2.500000</td>\n",
       "      <td>750.000000</td>\n",
       "      <td>2025-05-05 13:24:17</td>\n",
       "    </tr>\n",
       "    <tr>\n",
       "      <th>75%</th>\n",
       "      <td>3.250000</td>\n",
       "      <td>1250.000000</td>\n",
       "      <td>2025-05-05 14:45:17.249999872</td>\n",
       "    </tr>\n",
       "    <tr>\n",
       "      <th>max</th>\n",
       "      <td>4.000000</td>\n",
       "      <td>2000.000000</td>\n",
       "      <td>2025-05-05 18:44:12</td>\n",
       "    </tr>\n",
       "    <tr>\n",
       "      <th>std</th>\n",
       "      <td>1.290994</td>\n",
       "      <td>759.385717</td>\n",
       "      <td>NaN</td>\n",
       "    </tr>\n",
       "  </tbody>\n",
       "</table>\n",
       "</div>"
      ],
      "text/plain": [
       "             id        monto                          fecha\n",
       "count  4.000000     4.000000                              4\n",
       "mean   2.500000   950.000000  2025-05-05 14:43:07.750000128\n",
       "min    1.000000   300.000000            2025-05-05 13:19:45\n",
       "25%    1.750000   450.000000     2025-05-05 13:22:07.500000\n",
       "50%    2.500000   750.000000            2025-05-05 13:24:17\n",
       "75%    3.250000  1250.000000  2025-05-05 14:45:17.249999872\n",
       "max    4.000000  2000.000000            2025-05-05 18:44:12\n",
       "std    1.290994   759.385717                            NaN"
      ]
     },
     "execution_count": 4,
     "metadata": {},
     "output_type": "execute_result"
    }
   ],
   "source": [
    "#Estadísticas rápidas\n",
    "df.describe()"
   ]
  },
  {
   "cell_type": "code",
   "execution_count": 5,
   "id": "8544fe1a",
   "metadata": {},
   "outputs": [
    {
     "data": {
      "text/plain": [
       "tipo\n",
       "Extracción       2\n",
       "Transferencia    2\n",
       "Name: count, dtype: int64"
      ]
     },
     "execution_count": 5,
     "metadata": {},
     "output_type": "execute_result"
    }
   ],
   "source": [
    "#¿Cuántas transacciones por tipo?\n",
    "df['tipo'].value_counts()"
   ]
  },
  {
   "cell_type": "code",
   "execution_count": 6,
   "id": "387d4c8e",
   "metadata": {},
   "outputs": [
    {
     "data": {
      "text/plain": [
       "origen\n",
       "0001-000001    3800.0\n",
       "Name: monto, dtype: float64"
      ]
     },
     "execution_count": 6,
     "metadata": {},
     "output_type": "execute_result"
    }
   ],
   "source": [
    "#¿Qué cuenta movió más dinero?\n",
    "df.groupby('origen')['monto'].sum().sort_values(ascending=False).head(5)\n"
   ]
  },
  {
   "cell_type": "code",
   "execution_count": 7,
   "id": "10203de3",
   "metadata": {},
   "outputs": [
    {
     "data": {
      "text/plain": [
       "tipo\n",
       "Extracción       2500.0\n",
       "Transferencia    1300.0\n",
       "Name: monto, dtype: float64"
      ]
     },
     "execution_count": 7,
     "metadata": {},
     "output_type": "execute_result"
    }
   ],
   "source": [
    "# ¿Cuánto se movió por tipo de transacción?\n",
    "df.groupby('tipo')['monto'].sum()"
   ]
  },
  {
   "cell_type": "code",
   "execution_count": 7,
   "id": "e1f23f51",
   "metadata": {},
   "outputs": [
    {
     "data": {
      "image/png": "[encoded data removed]",
      "text/plain": [
       "<Figure size 640x480 with 1 Axes>"
      ]
     },
     "metadata": {},
     "output_type": "display_data"
    }
   ],
   "source": [
    "#Histograma de montos\n",
    "import matplotlib.pyplot as plt\n",
    "\n",
    "df['monto'].hist(bins=10)\n",
    "plt.title(\"Distribución de montos\")\n",
    "plt.xlabel(\"Monto\")\n",
    "plt.ylabel(\"Frecuencia\")\n",
    "plt.show()"
   ]
  }
 ],
 "metadata": {
  "kernelspec": {
   "display_name": "env",
   "language": "python",
   "name": "python3"
  },
  "language_info": {
   "codemirror_mode": {
    "name": "ipython",
    "version": 3
   },
   "file_extension": ".py",
   "mimetype": "text/x-python",
   "name": "python",
   "nbconvert_exporter": "python",
   "pygments_lexer": "ipython3",
   "version": "3.11.9"
  }
 },
 "nbformat": 4,
 "nbformat_minor": 5
}
